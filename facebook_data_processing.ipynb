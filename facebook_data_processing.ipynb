{
 "cells": [
  {
   "cell_type": "markdown",
   "metadata": {},
   "source": [
    "### Preprocessing of raw facebook data extracted from Facepager."
   ]
  },
  {
   "cell_type": "code",
   "execution_count": 4,
   "metadata": {
    "scrolled": false
   },
   "outputs": [
    {
     "name": "stdout",
     "output_type": "stream",
     "text": [
      "1769post(s), 1241comment(s)\n",
      "152post(s), 845comment(s)\n",
      "1post(s), 1comment(s)\n",
      "953post(s), 4974comment(s)\n",
      "551post(s), 859comment(s)\n"
     ]
    }
   ],
   "source": [
    "import pandas as pd\n",
    "\n",
    "# pd.set_option('max_row', 10)\n",
    "\n",
    "# Defining the file paths\n",
    "organizations = ['afrimash', 'daydone', 'easyagro', 'farmcrowdy', 'farmsquare']\n",
    "raw_file_paths = ['../data/Facebook data/raw/'+org+'.csv' for org in organizations]\n",
    "processed_posts = ['../data/Facebook data/processed/'+org+'_posts.csv' for org in organizations]\n",
    "processed_comments = ['../data/Facebook data/processed/'+org+'_comments.csv' for org in organizations]\n",
    "\n",
    "# Iterate through the raw data files, process, and store in seperate new files for posts and comments\n",
    "for path, p_post, p_comment in zip(raw_file_paths, processed_posts, processed_comments):\n",
    "    df = pd.read_csv(path)\n",
    "\n",
    "    posts = df[df['level'] == 1]\n",
    "    post_texts = posts[['message']]\n",
    "    post_texts = post_texts.dropna()\n",
    "    if post_texts.empty:\n",
    "        post_texts['message'] = [\"No data\"]\n",
    "    post_texts.to_csv(p_post, index=False)\n",
    "\n",
    "    comments = df[df['level'] == 2]\n",
    "    comment_texts = comments[['message']]\n",
    "    comment_texts = comment_texts.dropna()\n",
    "    if comment_texts.empty:\n",
    "        comment_texts['message'] = [\"No data\"]\n",
    "    comment_texts.to_csv(p_comment, index=False)\n",
    "    \n",
    "    print(\"{}post(s), {}comment(s)\".format(len(post_texts), len(comment_texts)))"
   ]
  },
  {
   "cell_type": "code",
   "execution_count": null,
   "metadata": {},
   "outputs": [],
   "source": []
  }
 ],
 "metadata": {
  "kernelspec": {
   "display_name": "Python 3",
   "language": "python",
   "name": "python3"
  },
  "language_info": {
   "codemirror_mode": {
    "name": "ipython",
    "version": 3
   },
   "file_extension": ".py",
   "mimetype": "text/x-python",
   "name": "python",
   "nbconvert_exporter": "python",
   "pygments_lexer": "ipython3",
   "version": "3.8.3"
  }
 },
 "nbformat": 4,
 "nbformat_minor": 4
}
